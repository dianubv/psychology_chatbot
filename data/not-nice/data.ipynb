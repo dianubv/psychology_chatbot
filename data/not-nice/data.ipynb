{
 "cells": [
  {
   "cell_type": "code",
   "execution_count": 1,
   "metadata": {},
   "outputs": [
    {
     "name": "stderr",
     "output_type": "stream",
     "text": [
      "/home/diane/.local/lib/python3.10/site-packages/tqdm/auto.py:21: TqdmWarning: IProgress not found. Please update jupyter and ipywidgets. See https://ipywidgets.readthedocs.io/en/stable/user_install.html\n",
      "  from .autonotebook import tqdm as notebook_tqdm\n"
     ]
    },
    {
     "name": "stdout",
     "output_type": "stream",
     "text": [
      "DatasetDict({\n",
      "    test: Dataset({\n",
      "        features: ['question', 'response_j', 'response_k'],\n",
      "        num_rows: 332\n",
      "    })\n",
      "})\n"
     ]
    }
   ],
   "source": [
    "from datasets import load_dataset\n",
    "dataset = load_dataset('jkhedri/psychology-dataset-split')\n",
    "print(dataset)\n",
    "print(dataset)"
   ]
  },
  {
   "cell_type": "code",
   "execution_count": 6,
   "metadata": {},
   "outputs": [],
   "source": [
    "from datasets import load_dataset\n",
    "\n",
    "def save_to_txt(dataset, filename):\n",
    "    with open(filename, 'w', encoding='utf-8') as file:\n",
    "        for entry in dataset:\n",
    "            file.write(entry['question'] + '\\n')\n",
    "            file.write(entry['response_k'] + '\\n \\n \\n')\n",
    "\n",
    "\n",
    "# Load your dataset from Hugging Face\n",
    "dataset = load_dataset('jkhedri/psychology-dataset-split')\n",
    "\n",
    "# Assuming you want to transform the entire dataset\n",
    "save_to_txt(dataset['test'], 'input.txt')\n"
   ]
  }
 ],
 "metadata": {
  "kernelspec": {
   "display_name": "Python 3",
   "language": "python",
   "name": "python3"
  },
  "language_info": {
   "codemirror_mode": {
    "name": "ipython",
    "version": 3
   },
   "file_extension": ".py",
   "mimetype": "text/x-python",
   "name": "python",
   "nbconvert_exporter": "python",
   "pygments_lexer": "ipython3",
   "version": "3.10.12"
  }
 },
 "nbformat": 4,
 "nbformat_minor": 2
}
